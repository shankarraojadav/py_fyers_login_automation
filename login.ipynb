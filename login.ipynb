{
 "cells": [
  {
   "cell_type": "code",
   "execution_count": 2,
   "metadata": {},
   "outputs": [
    {
     "data": {
      "text/plain": [
       "'https://www.google.com/?s=ok&code=200&auth_code=eyJ0eXAiOiJKV1QiLCJhbGciOiJIUzI1NiJ9.eyJpc3MiOiJhcGkubG9naW4uZnllcnMuaW4iLCJpYXQiOjE3Mjk1MDE3MzIsImV4cCI6MTcyOTUzMTczMiwibmJmIjoxNzI5NTAxMTMyLCJhdWQiOiJbXCJ4OjBcIiwgXCJ4OjFcIiwgXCJ4OjJcIiwgXCJkOjFcIiwgXCJkOjJcIiwgXCJ4OjFcIiwgXCJ4OjBcIl0iLCJzdWIiOiJhdXRoX2NvZGUiLCJkaXNwbGF5X25hbWUiOiJEUzAyMjQxIiwib21zIjoiSzEiLCJoc21fa2V5IjoiOWY4ODg4NzVhYmQyYzFkYjZlZDhjMzhiM2M5ZDQ2ZmMwYjJkMWM4MGZkYWNmNjdmMjFiYjVlYzIiLCJub25jZSI6IiIsImFwcF9pZCI6Ik1ITDFENEdWS08iLCJ1dWlkIjoiODhlY2M2NDg3ZTM0NDM1NGI4NmVkYjQ4M2MxNzA4NGMiLCJpcEFkZHIiOiIwLjAuMC4wIiwic2NvcGUiOiIifQ.5BTIk-rpo74rjViJHcIE1VTO_DAnM73sn1fkbQyZ69Y&state=None'"
      ]
     },
     "execution_count": 2,
     "metadata": {},
     "output_type": "execute_result"
    }
   ],
   "source": [
    "uri='https://www.google.com/?s=ok&code=200&auth_code=eyJ0eXAiOiJKV1QiLCJhbGciOiJIUzI1NiJ9.eyJpc3MiOiJhcGkubG9naW4uZnllcnMuaW4iLCJpYXQiOjE3Mjk1MDE3MzIsImV4cCI6MTcyOTUzMTczMiwibmJmIjoxNzI5NTAxMTMyLCJhdWQiOiJbXCJ4OjBcIiwgXCJ4OjFcIiwgXCJ4OjJcIiwgXCJkOjFcIiwgXCJkOjJcIiwgXCJ4OjFcIiwgXCJ4OjBcIl0iLCJzdWIiOiJhdXRoX2NvZGUiLCJkaXNwbGF5X25hbWUiOiJEUzAyMjQxIiwib21zIjoiSzEiLCJoc21fa2V5IjoiOWY4ODg4NzVhYmQyYzFkYjZlZDhjMzhiM2M5ZDQ2ZmMwYjJkMWM4MGZkYWNmNjdmMjFiYjVlYzIiLCJub25jZSI6IiIsImFwcF9pZCI6Ik1ITDFENEdWS08iLCJ1dWlkIjoiODhlY2M2NDg3ZTM0NDM1NGI4NmVkYjQ4M2MxNzA4NGMiLCJpcEFkZHIiOiIwLjAuMC4wIiwic2NvcGUiOiIifQ.5BTIk-rpo74rjViJHcIE1VTO_DAnM73sn1fkbQyZ69Y&state=None'\n",
    "uri"
   ]
  },
  {
   "cell_type": "code",
   "execution_count": 7,
   "metadata": {},
   "outputs": [],
   "source": [
    "s1=uri.split('auth_code=')\n",
    "auth=s1[1].split('&state')[0]"
   ]
  },
  {
   "cell_type": "code",
   "execution_count": 8,
   "metadata": {},
   "outputs": [
    {
     "data": {
      "text/plain": [
       "'eyJ0eXAiOiJKV1QiLCJhbGciOiJIUzI1NiJ9.eyJpc3MiOiJhcGkubG9naW4uZnllcnMuaW4iLCJpYXQiOjE3Mjk1MDE3MzIsImV4cCI6MTcyOTUzMTczMiwibmJmIjoxNzI5NTAxMTMyLCJhdWQiOiJbXCJ4OjBcIiwgXCJ4OjFcIiwgXCJ4OjJcIiwgXCJkOjFcIiwgXCJkOjJcIiwgXCJ4OjFcIiwgXCJ4OjBcIl0iLCJzdWIiOiJhdXRoX2NvZGUiLCJkaXNwbGF5X25hbWUiOiJEUzAyMjQxIiwib21zIjoiSzEiLCJoc21fa2V5IjoiOWY4ODg4NzVhYmQyYzFkYjZlZDhjMzhiM2M5ZDQ2ZmMwYjJkMWM4MGZkYWNmNjdmMjFiYjVlYzIiLCJub25jZSI6IiIsImFwcF9pZCI6Ik1ITDFENEdWS08iLCJ1dWlkIjoiODhlY2M2NDg3ZTM0NDM1NGI4NmVkYjQ4M2MxNzA4NGMiLCJpcEFkZHIiOiIwLjAuMC4wIiwic2NvcGUiOiIifQ.5BTIk-rpo74rjViJHcIE1VTO_DAnM73sn1fkbQyZ69Y'"
      ]
     },
     "execution_count": 8,
     "metadata": {},
     "output_type": "execute_result"
    }
   ],
   "source": [
    "auth"
   ]
  },
  {
   "cell_type": "code",
   "execution_count": 10,
   "metadata": {},
   "outputs": [
    {
     "name": "stdout",
     "output_type": "stream",
     "text": [
      "{'s': 'ok', 'code': 200, 'message': '', 'access_token': 'eyJ0eXAiOiJKV1QiLCJhbGciOiJIUzI1NiJ9.eyJpc3MiOiJhcGkuZnllcnMuaW4iLCJpYXQiOjE3Mjk1MDI4NjksImV4cCI6MTcyOTU1NzA0OSwibmJmIjoxNzI5NTAyODY5LCJhdWQiOlsieDowIiwieDoxIiwieDoyIiwiZDoxIiwiZDoyIiwieDoxIiwieDowIl0sInN1YiI6ImFjY2Vzc190b2tlbiIsImF0X2hhc2giOiJnQUFBQUFCbkZoNlYtSkJ1TmFnTnpob042bEZoOUU3RnNWUXpqYlBYNHZGSG54X3FBRDF1ekFEOFBtaVlyOEVfZ2hMbmtxNXd6Z3NhTFVpXzZUVnZVZHp3aHVDWW95ZUlaNG41bHp1N2FhVnVHNTdISTJKTGNaRT0iLCJkaXNwbGF5X25hbWUiOiJTSEFOS0FSQSBSQU8gSkFEQVYgQ0hBTkRSQVBQQSIsIm9tcyI6IksxIiwiaHNtX2tleSI6IjlmODg4ODc1YWJkMmMxZGI2ZWQ4YzM4YjNjOWQ0NmZjMGIyZDFjODBmZGFjZjY3ZjIxYmI1ZWMyIiwiZnlfaWQiOiJEUzAyMjQxIiwiYXBwVHlwZSI6MTAwLCJwb2FfZmxhZyI6Ik4ifQ.cwcaYp176sFiVDHQ_P1OhfjnbDCU7KChZX14jQpjeDk', 'refresh_token': 'eyJ0eXAiOiJKV1QiLCJhbGciOiJIUzI1NiJ9.eyJpc3MiOiJhcGkuZnllcnMuaW4iLCJpYXQiOjE3Mjk1MDI4NjksImV4cCI6MTczMDc2NjY0OSwibmJmIjoxNzI5NTAyODY5LCJhdWQiOlsieDowIiwieDoxIiwieDoyIiwiZDoxIiwiZDoyIiwieDoxIiwieDowIl0sInN1YiI6InJlZnJlc2hfdG9rZW4iLCJhdF9oYXNoIjoiZ0FBQUFBQm5GaDZWLUpCdU5hZ056aG9ONmxGaDlFN0ZzVlF6amJQWDR2RkhueF9xQUQxdXpBRDhQbWlZcjhFX2doTG5rcTV3emdzYUxVaV82VFZ2VWR6d2h1Q1lveWVJWjRuNWx6dTdhYVZ1RzU3SEkySkxjWkU9IiwiZGlzcGxheV9uYW1lIjoiU0hBTktBUkEgUkFPIEpBREFWIENIQU5EUkFQUEEiLCJvbXMiOiJLMSIsImhzbV9rZXkiOiI5Zjg4ODg3NWFiZDJjMWRiNmVkOGMzOGIzYzlkNDZmYzBiMmQxYzgwZmRhY2Y2N2YyMWJiNWVjMiIsImZ5X2lkIjoiRFMwMjI0MSIsImFwcFR5cGUiOjEwMCwicG9hX2ZsYWciOiJOIn0.OOHi-U0yVYHUsgUdyIJZLXk_BR8wl-60Whr21KuTZBo'}\n"
     ]
    }
   ],
   "source": [
    "from fyers_apiv3 import fyersModel\n",
    "\n",
    "# Define your Fyers API credentials\n",
    "client_id = \"\"\n",
    "secret_key = \"\"\n",
    "redirect_uri = \"https://google.com\"\n",
    "\n",
    "response_type = \"code\" \n",
    "grant_type = \"authorization_code\"  \n",
    "\n",
    "# The authorization code received from Fyers after the user grants access\n",
    "auth_code = auth\n",
    "\n",
    "# Create a session object to handle the Fyers API authentication and token generation\n",
    "session = fyersModel.SessionModel(\n",
    "    client_id=client_id,\n",
    "    secret_key=secret_key, \n",
    "    redirect_uri=redirect_uri, \n",
    "    response_type=response_type, \n",
    "    grant_type=grant_type\n",
    ")\n",
    "\n",
    "# Set the authorization code in the session object\n",
    "session.set_token(auth_code)\n",
    "\n",
    "# Generate the access token using the authorization code\n",
    "response = session.generate_token()\n",
    "\n",
    "# Print the response, which should contain the access token and other details\n",
    "print(response)"
   ]
  },
  {
   "cell_type": "code",
   "execution_count": 11,
   "metadata": {},
   "outputs": [],
   "source": [
    "access_token=response['access_token']"
   ]
  },
  {
   "cell_type": "code",
   "execution_count": 12,
   "metadata": {},
   "outputs": [
    {
     "data": {
      "text/plain": [
       "'eyJ0eXAiOiJKV1QiLCJhbGciOiJIUzI1NiJ9.eyJpc3MiOiJhcGkuZnllcnMuaW4iLCJpYXQiOjE3Mjk1MDI4NjksImV4cCI6MTcyOTU1NzA0OSwibmJmIjoxNzI5NTAyODY5LCJhdWQiOlsieDowIiwieDoxIiwieDoyIiwiZDoxIiwiZDoyIiwieDoxIiwieDowIl0sInN1YiI6ImFjY2Vzc190b2tlbiIsImF0X2hhc2giOiJnQUFBQUFCbkZoNlYtSkJ1TmFnTnpob042bEZoOUU3RnNWUXpqYlBYNHZGSG54X3FBRDF1ekFEOFBtaVlyOEVfZ2hMbmtxNXd6Z3NhTFVpXzZUVnZVZHp3aHVDWW95ZUlaNG41bHp1N2FhVnVHNTdISTJKTGNaRT0iLCJkaXNwbGF5X25hbWUiOiJTSEFOS0FSQSBSQU8gSkFEQVYgQ0hBTkRSQVBQQSIsIm9tcyI6IksxIiwiaHNtX2tleSI6IjlmODg4ODc1YWJkMmMxZGI2ZWQ4YzM4YjNjOWQ0NmZjMGIyZDFjODBmZGFjZjY3ZjIxYmI1ZWMyIiwiZnlfaWQiOiJEUzAyMjQxIiwiYXBwVHlwZSI6MTAwLCJwb2FfZmxhZyI6Ik4ifQ.cwcaYp176sFiVDHQ_P1OhfjnbDCU7KChZX14jQpjeDk'"
      ]
     },
     "execution_count": 12,
     "metadata": {},
     "output_type": "execute_result"
    }
   ],
   "source": [
    "access_token"
   ]
  },
  {
   "cell_type": "code",
   "execution_count": 13,
   "metadata": {},
   "outputs": [
    {
     "name": "stdout",
     "output_type": "stream",
     "text": [
      "{'code': 200, 'message': '', 's': 'ok', 'overall': {'count_total': 0, 'pnl_perc': 0, 'total_current_value': 0, 'total_investment': 0, 'total_pl': 0}, 'holdings': []}\n"
     ]
    }
   ],
   "source": [
    "fyers = fyersModel.FyersModel(client_id=client_id, token=access_token,is_async=False, log_path=\"\")\n",
    "\n",
    "response = fyers.holdings()\n",
    "print(response)"
   ]
  }
 ],
 "metadata": {
  "kernelspec": {
   "display_name": ".venv",
   "language": "python",
   "name": "python3"
  },
  "language_info": {
   "codemirror_mode": {
    "name": "ipython",
    "version": 3
   },
   "file_extension": ".py",
   "mimetype": "text/x-python",
   "name": "python",
   "nbconvert_exporter": "python",
   "pygments_lexer": "ipython3",
   "version": "3.13.0"
  }
 },
 "nbformat": 4,
 "nbformat_minor": 2
}
